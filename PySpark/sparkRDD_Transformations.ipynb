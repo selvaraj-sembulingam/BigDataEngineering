{
  "nbformat": 4,
  "nbformat_minor": 0,
  "metadata": {
    "application/vnd.databricks.v1+notebook": {
      "notebookName": "sparkRDD_Transformations",
      "dashboards": [],
      "notebookMetadata": {
        "pythonIndentUnit": 2
      },
      "language": "python",
      "widgets": {},
      "notebookOrigID": 4343338016982642
    },
    "colab": {
      "name": "sparkRDD_Transformations (1).ipynb",
      "provenance": []
    }
  },
  "cells": [
    {
      "cell_type": "markdown",
      "metadata": {
        "id": "1xnTkLnb_KBe"
      },
      "source": [
        "## ***SPARK RDD TRANSFORMATIONS***\n",
        "\n"
      ]
    },
    {
      "cell_type": "markdown",
      "metadata": {
        "id": "r_epj5iK9Qvw"
      },
      "source": [
        "## **map(func)**"
      ]
    },
    {
      "cell_type": "code",
      "metadata": {
        "application/vnd.databricks.v1+cell": {
          "title": "map(func)",
          "showTitle": true,
          "inputWidgets": {},
          "nuid": "9d374544-e2a5-49ed-b0d2-5b2f6f7ad0ed"
        },
        "id": "FE0XrRrb9Jva",
        "outputId": "c8648899-9d5e-437b-b00a-1f0d3d91017b"
      },
      "source": [
        "# Return a new distributed dataset formed by passing each element of the source through a function func.\n",
        "data = [1,2,3,4,5]\n",
        "source_RDD=sc.parallelize(data,4)\n",
        "result_RDD = source_RDD.map(lambda x:x**2)\n",
        "print('Source RDD=',source_RDD.collect())\n",
        "print('Result RDD after map = ',result_RDD.collect())"
      ],
      "execution_count": null,
      "outputs": [
        {
          "output_type": "display_data",
          "metadata": {
            "application/vnd.databricks.v1+output": {
              "datasetInfos": [],
              "data": "<div class=\"ansiout\">Source RDD= [1, 2, 3, 4, 5]\nResult RDD after map =  [1, 4, 9, 16, 25]\n</div>",
              "removedWidgets": [],
              "addedWidgets": {},
              "metadata": {},
              "type": "html",
              "arguments": {}
            }
          },
          "data": {
            "text/html": [
              "<style scoped>\n  .ansiout {\n    display: block;\n    unicode-bidi: embed;\n    white-space: pre-wrap;\n    word-wrap: break-word;\n    word-break: break-all;\n    font-family: \"Source Code Pro\", \"Menlo\", monospace;;\n    font-size: 13px;\n    color: #555;\n    margin-left: 4px;\n    line-height: 19px;\n  }\n</style>\n<div class=\"ansiout\">Source RDD= [1, 2, 3, 4, 5]\nResult RDD after map =  [1, 4, 9, 16, 25]\n</div>"
            ]
          }
        }
      ]
    },
    {
      "cell_type": "markdown",
      "metadata": {
        "id": "hbAjh6xi9j6M"
      },
      "source": [
        "## **filter(func)**"
      ]
    },
    {
      "cell_type": "code",
      "metadata": {
        "application/vnd.databricks.v1+cell": {
          "title": "filter(func)",
          "showTitle": true,
          "inputWidgets": {},
          "nuid": "7455910f-ada5-4d11-b205-96078ddef353"
        },
        "id": "rrLQSt2v9Jvc",
        "outputId": "d96ef080-9158-4a66-f8cf-46d17abeda29"
      },
      "source": [
        "# Return a new dataset formed by selecting those elements of the source on which func returns true.\n",
        "data = [1,2,3,4,5]\n",
        "source_RDD=sc.parallelize(data,4)\n",
        "result_RDD = source_RDD.filter(lambda x:x%2==0) # lambda function returns true when the element is even\n",
        "print('Source RDD=',source_RDD.collect())\n",
        "print('Result RDD after filter = ',result_RDD.collect())"
      ],
      "execution_count": null,
      "outputs": [
        {
          "output_type": "display_data",
          "metadata": {
            "application/vnd.databricks.v1+output": {
              "datasetInfos": [],
              "data": "<div class=\"ansiout\">Source RDD= [1, 2, 3, 4, 5]\nResult RDD after filter =  [2, 4]\n</div>",
              "removedWidgets": [],
              "addedWidgets": {},
              "metadata": {},
              "type": "html",
              "arguments": {}
            }
          },
          "data": {
            "text/html": [
              "<style scoped>\n  .ansiout {\n    display: block;\n    unicode-bidi: embed;\n    white-space: pre-wrap;\n    word-wrap: break-word;\n    word-break: break-all;\n    font-family: \"Source Code Pro\", \"Menlo\", monospace;;\n    font-size: 13px;\n    color: #555;\n    margin-left: 4px;\n    line-height: 19px;\n  }\n</style>\n<div class=\"ansiout\">Source RDD= [1, 2, 3, 4, 5]\nResult RDD after filter =  [2, 4]\n</div>"
            ]
          }
        }
      ]
    },
    {
      "cell_type": "markdown",
      "metadata": {
        "id": "68qCyJ6r9xee"
      },
      "source": [
        "## **flatMap(func)**"
      ]
    },
    {
      "cell_type": "code",
      "metadata": {
        "application/vnd.databricks.v1+cell": {
          "title": "flatMap(func)",
          "showTitle": true,
          "inputWidgets": {},
          "nuid": "8b24d201-eec3-4b84-8afd-d2bc4323d713"
        },
        "id": "69TO_8vW9Jvd",
        "outputId": "a21b7e6b-6224-4b5f-defe-ffa9ab5ab886"
      },
      "source": [
        "# Similar to map, but each input item can be mapped to 0 or more output items (so func should return a Seq rather than a single item).\n",
        "data = [1,2,3,4,5]\n",
        "source_RDD=sc.parallelize(data,4)\n",
        "result_RDD1 = source_RDD.flatMap(lambda x:(x,x))\n",
        "result_RDD2 = source_RDD.flatMap(lambda x:[(x,x**2)])\n",
        "result_RDD3 = source_RDD.flatMap(lambda x:range(1,x))\n",
        "print('Source RDD=',source_RDD.collect())\n",
        "print('Result RDD1 after flatMap = ',result_RDD1.collect())\n",
        "print('Result RDD2 after flatMap = ',result_RDD2.collect())\n",
        "print('Result RDD3 after flatMap = ',result_RDD3.collect())"
      ],
      "execution_count": null,
      "outputs": [
        {
          "output_type": "display_data",
          "metadata": {
            "application/vnd.databricks.v1+output": {
              "datasetInfos": [],
              "data": "<div class=\"ansiout\">Source RDD= [1, 2, 3, 4, 5]\nResult RDD1 after flatMap =  [1, 1, 2, 2, 3, 3, 4, 4, 5, 5]\nResult RDD2 after flatMap =  [(1, 1), (2, 4), (3, 9), (4, 16), (5, 25)]\nResult RDD3 after flatMap =  [1, 1, 2, 1, 2, 3, 1, 2, 3, 4]\n</div>",
              "removedWidgets": [],
              "addedWidgets": {},
              "metadata": {},
              "type": "html",
              "arguments": {}
            }
          },
          "data": {
            "text/html": [
              "<style scoped>\n  .ansiout {\n    display: block;\n    unicode-bidi: embed;\n    white-space: pre-wrap;\n    word-wrap: break-word;\n    word-break: break-all;\n    font-family: \"Source Code Pro\", \"Menlo\", monospace;;\n    font-size: 13px;\n    color: #555;\n    margin-left: 4px;\n    line-height: 19px;\n  }\n</style>\n<div class=\"ansiout\">Source RDD= [1, 2, 3, 4, 5]\nResult RDD1 after flatMap =  [1, 1, 2, 2, 3, 3, 4, 4, 5, 5]\nResult RDD2 after flatMap =  [(1, 1), (2, 4), (3, 9), (4, 16), (5, 25)]\nResult RDD3 after flatMap =  [1, 1, 2, 1, 2, 3, 1, 2, 3, 4]\n</div>"
            ]
          }
        }
      ]
    },
    {
      "cell_type": "markdown",
      "metadata": {
        "id": "wlU_-5ET90Xe"
      },
      "source": [
        "## **mapPartitions(func)**"
      ]
    },
    {
      "cell_type": "code",
      "metadata": {
        "application/vnd.databricks.v1+cell": {
          "title": "mapPartitions(func)",
          "showTitle": true,
          "inputWidgets": {},
          "nuid": "289a698a-060c-41fe-99d1-d8c8d10054a7"
        },
        "id": "mewx7nEf9Jvd",
        "outputId": "e9651c81-7e34-4361-d96a-d8c909241d15"
      },
      "source": [
        "# Similar to map, but runs separately on each partition (block) of the RDD, so func must be of type Iterator<T> => Iterator<U> when running on an RDD of type T.\n",
        "\n",
        "def process_partition(partitions):\n",
        "  yield sum(partitions)\n",
        "  \n",
        "data = [1,2,3,3,2,5,2,4,3]\n",
        "source_RDD = sc.parallelize(data,3)\n",
        "print('Source RDD=',source_RDD.collect())\n",
        "print('Source RDD at partition level=',source_RDD.glom().collect())\n",
        "result_RDD = source_RDD.mapPartitions(process_partition)\n",
        "print('Resultant RDD after mapPartitions=',result_RDD.collect())"
      ],
      "execution_count": null,
      "outputs": [
        {
          "output_type": "display_data",
          "metadata": {
            "application/vnd.databricks.v1+output": {
              "datasetInfos": [],
              "data": "<div class=\"ansiout\">Source RDD= [1, 2, 3, 3, 2, 5, 2, 4, 3]\nSource RDD at partition level= [[1, 2, 3], [3, 2, 5], [2, 4, 3]]\nResultant RDD after mapPartitions= [6, 10, 9]\n</div>",
              "removedWidgets": [],
              "addedWidgets": {},
              "metadata": {},
              "type": "html",
              "arguments": {}
            }
          },
          "data": {
            "text/html": [
              "<style scoped>\n  .ansiout {\n    display: block;\n    unicode-bidi: embed;\n    white-space: pre-wrap;\n    word-wrap: break-word;\n    word-break: break-all;\n    font-family: \"Source Code Pro\", \"Menlo\", monospace;;\n    font-size: 13px;\n    color: #555;\n    margin-left: 4px;\n    line-height: 19px;\n  }\n</style>\n<div class=\"ansiout\">Source RDD= [1, 2, 3, 3, 2, 5, 2, 4, 3]\nSource RDD at partition level= [[1, 2, 3], [3, 2, 5], [2, 4, 3]]\nResultant RDD after mapPartitions= [6, 10, 9]\n</div>"
            ]
          }
        }
      ]
    },
    {
      "cell_type": "markdown",
      "metadata": {
        "id": "_m_PlaT994mN"
      },
      "source": [
        "## **mapPartitionsWithIndex(func)**"
      ]
    },
    {
      "cell_type": "code",
      "metadata": {
        "application/vnd.databricks.v1+cell": {
          "title": "mapPartitionsWithIndex(func)",
          "showTitle": true,
          "inputWidgets": {},
          "nuid": "dfb47985-d916-4483-a2a3-714536a99206"
        },
        "id": "yTRQoQoW9Jve",
        "outputId": "1308c8ae-6bf7-4aec-9250-190e6c16bd75"
      },
      "source": [
        "# Similar to mapPartitions, but also provides func with an integer value representing the index of the partition, so func must be of type (Int, Iterator<T>) => Iterator<U> when running on an RDD of type T.\n",
        "def process_partition(index,iterator):\n",
        "  yield (index,sum(iterator))\n",
        "  \n",
        "data = [1,2,3,3,2,5,2,4,3]\n",
        "source_RDD = sc.parallelize(data,3)\n",
        "print('Source RDD=',source_RDD.collect())\n",
        "print('Source RDD at partition level=',source_RDD.glom().collect())\n",
        "result_RDD = source_RDD.mapPartitionsWithIndex(process_partition)\n",
        "print('Resultant RDD after mapPartitionsWithIndex=',result_RDD.collect())"
      ],
      "execution_count": null,
      "outputs": [
        {
          "output_type": "display_data",
          "metadata": {
            "application/vnd.databricks.v1+output": {
              "datasetInfos": [],
              "data": "<div class=\"ansiout\">Source RDD= [1, 2, 3, 3, 2, 5, 2, 4, 3]\nSource RDD at partition level= [[1, 2, 3], [3, 2, 5], [2, 4, 3]]\nResultant RDD after mapPartitionsWithIndex= [(0, 6), (1, 10), (2, 9)]\n</div>",
              "removedWidgets": [],
              "addedWidgets": {},
              "metadata": {},
              "type": "html",
              "arguments": {}
            }
          },
          "data": {
            "text/html": [
              "<style scoped>\n  .ansiout {\n    display: block;\n    unicode-bidi: embed;\n    white-space: pre-wrap;\n    word-wrap: break-word;\n    word-break: break-all;\n    font-family: \"Source Code Pro\", \"Menlo\", monospace;;\n    font-size: 13px;\n    color: #555;\n    margin-left: 4px;\n    line-height: 19px;\n  }\n</style>\n<div class=\"ansiout\">Source RDD= [1, 2, 3, 3, 2, 5, 2, 4, 3]\nSource RDD at partition level= [[1, 2, 3], [3, 2, 5], [2, 4, 3]]\nResultant RDD after mapPartitionsWithIndex= [(0, 6), (1, 10), (2, 9)]\n</div>"
            ]
          }
        }
      ]
    },
    {
      "cell_type": "markdown",
      "metadata": {
        "id": "wrG2Z-s098ry"
      },
      "source": [
        "## **sample(withReplacement, fraction, seed)**"
      ]
    },
    {
      "cell_type": "code",
      "metadata": {
        "application/vnd.databricks.v1+cell": {
          "title": "sample(withReplacement, fraction, seed)",
          "showTitle": true,
          "inputWidgets": {},
          "nuid": "a0637012-3afe-48bb-ab9a-0b8888bc908d"
        },
        "id": "TVE_38Tg9Jve",
        "outputId": "2e8c69e9-71a1-4c26-bd8e-e4f5606fe382"
      },
      "source": [
        "# Sample a fraction fraction of the data, with or without replacement, using a given random number generator seed.\n",
        "data = range(1,101)\n",
        "source_RDD=sc.parallelize(data)\n",
        "result_RDD = source_RDD.sample(False,0.1,1)\n",
        "print('Source RDD=',source_RDD.collect())\n",
        "print('Result RDD after sample = ',result_RDD.collect())"
      ],
      "execution_count": null,
      "outputs": [
        {
          "output_type": "display_data",
          "metadata": {
            "application/vnd.databricks.v1+output": {
              "datasetInfos": [],
              "data": "<div class=\"ansiout\">Source RDD= [1, 2, 3, 4, 5, 6, 7, 8, 9, 10, 11, 12, 13, 14, 15, 16, 17, 18, 19, 20, 21, 22, 23, 24, 25, 26, 27, 28, 29, 30, 31, 32, 33, 34, 35, 36, 37, 38, 39, 40, 41, 42, 43, 44, 45, 46, 47, 48, 49, 50, 51, 52, 53, 54, 55, 56, 57, 58, 59, 60, 61, 62, 63, 64, 65, 66, 67, 68, 69, 70, 71, 72, 73, 74, 75, 76, 77, 78, 79, 80, 81, 82, 83, 84, 85, 86, 87, 88, 89, 90, 91, 92, 93, 94, 95, 96, 97, 98, 99, 100]\nResult RDD after sample =  [12, 37, 61, 66, 73, 76, 80, 85, 87]\n</div>",
              "removedWidgets": [],
              "addedWidgets": {},
              "metadata": {},
              "type": "html",
              "arguments": {}
            }
          },
          "data": {
            "text/html": [
              "<style scoped>\n  .ansiout {\n    display: block;\n    unicode-bidi: embed;\n    white-space: pre-wrap;\n    word-wrap: break-word;\n    word-break: break-all;\n    font-family: \"Source Code Pro\", \"Menlo\", monospace;;\n    font-size: 13px;\n    color: #555;\n    margin-left: 4px;\n    line-height: 19px;\n  }\n</style>\n<div class=\"ansiout\">Source RDD= [1, 2, 3, 4, 5, 6, 7, 8, 9, 10, 11, 12, 13, 14, 15, 16, 17, 18, 19, 20, 21, 22, 23, 24, 25, 26, 27, 28, 29, 30, 31, 32, 33, 34, 35, 36, 37, 38, 39, 40, 41, 42, 43, 44, 45, 46, 47, 48, 49, 50, 51, 52, 53, 54, 55, 56, 57, 58, 59, 60, 61, 62, 63, 64, 65, 66, 67, 68, 69, 70, 71, 72, 73, 74, 75, 76, 77, 78, 79, 80, 81, 82, 83, 84, 85, 86, 87, 88, 89, 90, 91, 92, 93, 94, 95, 96, 97, 98, 99, 100]\nResult RDD after sample =  [12, 37, 61, 66, 73, 76, 80, 85, 87]\n</div>"
            ]
          }
        }
      ]
    },
    {
      "cell_type": "markdown",
      "metadata": {
        "id": "m2VTK0Lp-BQX"
      },
      "source": [
        "## **union(otherDataset)**"
      ]
    },
    {
      "cell_type": "code",
      "metadata": {
        "application/vnd.databricks.v1+cell": {
          "title": "union(otherDataset)",
          "showTitle": true,
          "inputWidgets": {},
          "nuid": "06adedf2-9409-4fee-9d96-b8799b0cbd09"
        },
        "id": "gnBIK8099Jvf",
        "outputId": "47edd9ec-358a-4fe8-cc73-1ae744f5c299"
      },
      "source": [
        "# Return a new dataset that contains the union of the elements in the source dataset and the argument.\n",
        "data=[1,2,3]\n",
        "data2 = [2,4,5]\n",
        "source_RDD = sc.parallelize(data)\n",
        "argument_RDD = sc.parallelize(data2)\n",
        "result_RDD = source_RDD.union(argument_RDD)\n",
        "print('Source RDD=',source_RDD.collect())\n",
        "print('Another RDD=',argument_RDD.collect())\n",
        "print('Result RDD after union = ',result_RDD.collect())"
      ],
      "execution_count": null,
      "outputs": [
        {
          "output_type": "display_data",
          "metadata": {
            "application/vnd.databricks.v1+output": {
              "datasetInfos": [],
              "data": "<div class=\"ansiout\">Source RDD= [1, 2, 3]\nAnother RDD= [2, 4, 5]\nResult RDD after union =  [1, 2, 3, 2, 4, 5]\n</div>",
              "removedWidgets": [],
              "addedWidgets": {},
              "metadata": {},
              "type": "html",
              "arguments": {}
            }
          },
          "data": {
            "text/html": [
              "<style scoped>\n  .ansiout {\n    display: block;\n    unicode-bidi: embed;\n    white-space: pre-wrap;\n    word-wrap: break-word;\n    word-break: break-all;\n    font-family: \"Source Code Pro\", \"Menlo\", monospace;;\n    font-size: 13px;\n    color: #555;\n    margin-left: 4px;\n    line-height: 19px;\n  }\n</style>\n<div class=\"ansiout\">Source RDD= [1, 2, 3]\nAnother RDD= [2, 4, 5]\nResult RDD after union =  [1, 2, 3, 2, 4, 5]\n</div>"
            ]
          }
        }
      ]
    },
    {
      "cell_type": "markdown",
      "metadata": {
        "id": "YnQ375lY-Ewn"
      },
      "source": [
        "## **intersection(otherDataset)**"
      ]
    },
    {
      "cell_type": "code",
      "metadata": {
        "application/vnd.databricks.v1+cell": {
          "title": "intersection(otherDataset)",
          "showTitle": true,
          "inputWidgets": {},
          "nuid": "cc2ce91d-31b4-457f-a32b-ef503eb323d8"
        },
        "id": "AgHfBBwH9Jvg",
        "outputId": "79c9cba3-2f99-41f4-d1e6-01d48fddea7a"
      },
      "source": [
        "# Return a new RDD that contains the intersection of elements in the source dataset and the argument.\n",
        "data=[1,2,3]\n",
        "data2 = [2,4,5]\n",
        "source_RDD = sc.parallelize(data)\n",
        "argument_RDD = sc.parallelize(data2)\n",
        "result_RDD = source_RDD.intersection(argument_RDD)\n",
        "print('Source RDD=',source_RDD.collect())\n",
        "print('Another RDD=',argument_RDD.collect())\n",
        "print('Result RDD after intersection = ',result_RDD.collect())"
      ],
      "execution_count": null,
      "outputs": [
        {
          "output_type": "display_data",
          "metadata": {
            "application/vnd.databricks.v1+output": {
              "datasetInfos": [],
              "data": "<div class=\"ansiout\">Source RDD= [1, 2, 3]\nAnother RDD= [2, 4, 5]\nResult RDD after intersection =  [2]\n</div>",
              "removedWidgets": [],
              "addedWidgets": {},
              "metadata": {},
              "type": "html",
              "arguments": {}
            }
          },
          "data": {
            "text/html": [
              "<style scoped>\n  .ansiout {\n    display: block;\n    unicode-bidi: embed;\n    white-space: pre-wrap;\n    word-wrap: break-word;\n    word-break: break-all;\n    font-family: \"Source Code Pro\", \"Menlo\", monospace;;\n    font-size: 13px;\n    color: #555;\n    margin-left: 4px;\n    line-height: 19px;\n  }\n</style>\n<div class=\"ansiout\">Source RDD= [1, 2, 3]\nAnother RDD= [2, 4, 5]\nResult RDD after intersection =  [2]\n</div>"
            ]
          }
        }
      ]
    },
    {
      "cell_type": "markdown",
      "metadata": {
        "id": "J5RmhdNu-JsP"
      },
      "source": [
        "## **distinct([numPartitions])**"
      ]
    },
    {
      "cell_type": "code",
      "metadata": {
        "application/vnd.databricks.v1+cell": {
          "title": "distinct([numPartitions]))",
          "showTitle": true,
          "inputWidgets": {},
          "nuid": "d2f56eac-9f65-48fa-b4e5-43d7b8e5aeb7"
        },
        "id": "fUdJXWgo9Jvh",
        "outputId": "b9bbc859-c234-4a8d-d7e9-37e979b65d7f"
      },
      "source": [
        "# Return a new dataset that contains the distinct elements of the source dataset.\n",
        "data=[1,2,2,3,5,5]\n",
        "source_RDD = sc.parallelize(data)\n",
        "result_RDD = source_RDD.distinct(2)\n",
        "print('Source RDD=',source_RDD.collect())\n",
        "print('Result RDD after distinct = ',result_RDD.collect())"
      ],
      "execution_count": null,
      "outputs": [
        {
          "output_type": "display_data",
          "metadata": {
            "application/vnd.databricks.v1+output": {
              "datasetInfos": [],
              "data": "<div class=\"ansiout\">Source RDD= [1, 2, 2, 3, 5, 5]\nResult RDD after distinct =  [2, 1, 3, 5]\n</div>",
              "removedWidgets": [],
              "addedWidgets": {},
              "metadata": {},
              "type": "html",
              "arguments": {}
            }
          },
          "data": {
            "text/html": [
              "<style scoped>\n  .ansiout {\n    display: block;\n    unicode-bidi: embed;\n    white-space: pre-wrap;\n    word-wrap: break-word;\n    word-break: break-all;\n    font-family: \"Source Code Pro\", \"Menlo\", monospace;;\n    font-size: 13px;\n    color: #555;\n    margin-left: 4px;\n    line-height: 19px;\n  }\n</style>\n<div class=\"ansiout\">Source RDD= [1, 2, 2, 3, 5, 5]\nResult RDD after distinct =  [2, 1, 3, 5]\n</div>"
            ]
          }
        }
      ]
    },
    {
      "cell_type": "markdown",
      "metadata": {
        "id": "m2wwmQWY-Oqm"
      },
      "source": [
        "## **groupByKey([numPartitions])**"
      ]
    },
    {
      "cell_type": "code",
      "metadata": {
        "application/vnd.databricks.v1+cell": {
          "title": "groupByKey([numPartitions])",
          "showTitle": true,
          "inputWidgets": {},
          "nuid": "4ea626ab-5c2e-4fab-ab1e-6de6c760d246"
        },
        "id": "-p0Mg4Or9Jvh",
        "outputId": "3f89b0fb-a52c-448f-c8a0-5386a671863e"
      },
      "source": [
        "# When called on a dataset of (K, V) pairs, returns a dataset of (K, Iterable<V>) pairs.\n",
        "# Note: If you are grouping in order to perform an aggregation (such as a sum or average) over each key, using reduceByKey or aggregateByKey will yield much better performance.\n",
        "# Note: By default, the level of parallelism in the output depends on the number of partitions of the parent RDD. You can pass an optional numPartitions argument to set a different number of tasks.\n",
        "data=[(1,'A'),(2,'B'),(3,'C'),(4,'D'),(1,'D'),(4,'H'),(1,'Z'),(3,'O'),(3,'P')]\n",
        "source_RDD = sc.parallelize(data)\n",
        "result_RDD = source_RDD.groupByKey(2)\n",
        "print('Source RDD=',source_RDD.collect())\n",
        "print('Result RDD after groupByKey = ',result_RDD.collect())"
      ],
      "execution_count": null,
      "outputs": [
        {
          "output_type": "display_data",
          "metadata": {
            "application/vnd.databricks.v1+output": {
              "datasetInfos": [],
              "data": "<div class=\"ansiout\">Source RDD= [(1, &#39;A&#39;), (2, &#39;B&#39;), (3, &#39;C&#39;), (4, &#39;D&#39;), (1, &#39;D&#39;), (4, &#39;H&#39;), (1, &#39;Z&#39;), (3, &#39;O&#39;), (3, &#39;P&#39;)]\nResult RDD after groupByKey =  [(2, &lt;pyspark.resultiterable.ResultIterable object at 0x7f74718a7cd0&gt;), (4, &lt;pyspark.resultiterable.ResultIterable object at 0x7f74716be5e0&gt;), (1, &lt;pyspark.resultiterable.ResultIterable object at 0x7f74716be910&gt;), (3, &lt;pyspark.resultiterable.ResultIterable object at 0x7f74716be670&gt;)]\n</div>",
              "removedWidgets": [],
              "addedWidgets": {},
              "metadata": {},
              "type": "html",
              "arguments": {}
            }
          },
          "data": {
            "text/html": [
              "<style scoped>\n  .ansiout {\n    display: block;\n    unicode-bidi: embed;\n    white-space: pre-wrap;\n    word-wrap: break-word;\n    word-break: break-all;\n    font-family: \"Source Code Pro\", \"Menlo\", monospace;;\n    font-size: 13px;\n    color: #555;\n    margin-left: 4px;\n    line-height: 19px;\n  }\n</style>\n<div class=\"ansiout\">Source RDD= [(1, &#39;A&#39;), (2, &#39;B&#39;), (3, &#39;C&#39;), (4, &#39;D&#39;), (1, &#39;D&#39;), (4, &#39;H&#39;), (1, &#39;Z&#39;), (3, &#39;O&#39;), (3, &#39;P&#39;)]\nResult RDD after groupByKey =  [(2, &lt;pyspark.resultiterable.ResultIterable object at 0x7f74718a7cd0&gt;), (4, &lt;pyspark.resultiterable.ResultIterable object at 0x7f74716be5e0&gt;), (1, &lt;pyspark.resultiterable.ResultIterable object at 0x7f74716be910&gt;), (3, &lt;pyspark.resultiterable.ResultIterable object at 0x7f74716be670&gt;)]\n</div>"
            ]
          }
        }
      ]
    },
    {
      "cell_type": "code",
      "metadata": {
        "application/vnd.databricks.v1+cell": {
          "title": "",
          "showTitle": false,
          "inputWidgets": {},
          "nuid": "b4394906-8493-43ec-8988-88a2386696d4"
        },
        "id": "lh5AurWO9Jvi",
        "outputId": "807de072-dc17-47f2-9789-f6aea91ffa8e"
      },
      "source": [
        "# To see the Iterable in the above cell\n",
        "# We can turn the results of groupByKey into a list by calling list() \n",
        "result_RDD=source_RDD.groupByKey().map(lambda x : (x[0], list(x[1]))).collect()\n",
        "print('Result RDD after groupByKey with map = ',result_RDD)"
      ],
      "execution_count": null,
      "outputs": [
        {
          "output_type": "display_data",
          "metadata": {
            "application/vnd.databricks.v1+output": {
              "datasetInfos": [],
              "data": "<div class=\"ansiout\">Result RDD after groupByKey with map =  [(1, [&#39;A&#39;, &#39;D&#39;, &#39;Z&#39;]), (2, [&#39;B&#39;]), (3, [&#39;C&#39;, &#39;O&#39;, &#39;P&#39;]), (4, [&#39;D&#39;, &#39;H&#39;])]\n</div>",
              "removedWidgets": [],
              "addedWidgets": {},
              "metadata": {},
              "type": "html",
              "arguments": {}
            }
          },
          "data": {
            "text/html": [
              "<style scoped>\n  .ansiout {\n    display: block;\n    unicode-bidi: embed;\n    white-space: pre-wrap;\n    word-wrap: break-word;\n    word-break: break-all;\n    font-family: \"Source Code Pro\", \"Menlo\", monospace;;\n    font-size: 13px;\n    color: #555;\n    margin-left: 4px;\n    line-height: 19px;\n  }\n</style>\n<div class=\"ansiout\">Result RDD after groupByKey with map =  [(1, [&#39;A&#39;, &#39;D&#39;, &#39;Z&#39;]), (2, [&#39;B&#39;]), (3, [&#39;C&#39;, &#39;O&#39;, &#39;P&#39;]), (4, [&#39;D&#39;, &#39;H&#39;])]\n</div>"
            ]
          }
        }
      ]
    },
    {
      "cell_type": "markdown",
      "metadata": {
        "id": "_BfyRu8p-bs1"
      },
      "source": [
        "## **reduceByKey(func, [numPartitions])**"
      ]
    },
    {
      "cell_type": "code",
      "metadata": {
        "application/vnd.databricks.v1+cell": {
          "title": "reduceByKey(func, [numPartitions])",
          "showTitle": true,
          "inputWidgets": {},
          "nuid": "0ffe115b-8fe0-4f3c-beac-690c080e3ff9"
        },
        "id": "M-fRAPDb9Jvi",
        "outputId": "69812e2a-c034-44d7-fc7b-06ec3a0eff48"
      },
      "source": [
        "# When called on a dataset of (K, V) pairs, returns a dataset of (K, V) pairs where the values for each key are aggregated using the given reduce function func, which must be of type (V,V) => V. Like in groupByKey, the number of reduce tasks is configurable through an optional second argument.\n",
        "data=[(1,'A'),(2,'B'),(3,'C'),(4,'D'),(1,'D'),(4,'H'),(1,'Z'),(3,'O'),(3,'P')]\n",
        "source_RDD = sc.parallelize(data)\n",
        "result_RDD = source_RDD.reduceByKey(lambda a,b:a+b) # Using lambda function to concatenate the string based on keys\n",
        "print('Source RDD=',source_RDD.collect())\n",
        "print('Result RDD after reduceByKey = ',result_RDD.collect())"
      ],
      "execution_count": null,
      "outputs": [
        {
          "output_type": "display_data",
          "metadata": {
            "application/vnd.databricks.v1+output": {
              "datasetInfos": [],
              "data": "<div class=\"ansiout\">Source RDD= [(1, &#39;A&#39;), (2, &#39;B&#39;), (3, &#39;C&#39;), (4, &#39;D&#39;), (1, &#39;D&#39;), (4, &#39;H&#39;), (1, &#39;Z&#39;), (3, &#39;O&#39;), (3, &#39;P&#39;)]\nResult RDD after reduceByKey =  [(1, &#39;ADZ&#39;), (2, &#39;B&#39;), (3, &#39;COP&#39;), (4, &#39;DH&#39;)]\n</div>",
              "removedWidgets": [],
              "addedWidgets": {},
              "metadata": {},
              "type": "html",
              "arguments": {}
            }
          },
          "data": {
            "text/html": [
              "<style scoped>\n  .ansiout {\n    display: block;\n    unicode-bidi: embed;\n    white-space: pre-wrap;\n    word-wrap: break-word;\n    word-break: break-all;\n    font-family: \"Source Code Pro\", \"Menlo\", monospace;;\n    font-size: 13px;\n    color: #555;\n    margin-left: 4px;\n    line-height: 19px;\n  }\n</style>\n<div class=\"ansiout\">Source RDD= [(1, &#39;A&#39;), (2, &#39;B&#39;), (3, &#39;C&#39;), (4, &#39;D&#39;), (1, &#39;D&#39;), (4, &#39;H&#39;), (1, &#39;Z&#39;), (3, &#39;O&#39;), (3, &#39;P&#39;)]\nResult RDD after reduceByKey =  [(1, &#39;ADZ&#39;), (2, &#39;B&#39;), (3, &#39;COP&#39;), (4, &#39;DH&#39;)]\n</div>"
            ]
          }
        }
      ]
    },
    {
      "cell_type": "markdown",
      "metadata": {
        "id": "PGmDDzCj-gQ0"
      },
      "source": [
        "## **aggregateByKey(zeroValue, seqFunc, combFunc)**"
      ]
    },
    {
      "cell_type": "code",
      "metadata": {
        "application/vnd.databricks.v1+cell": {
          "title": "aggregateByKey(zeroValue, seqFunc, combFunc)",
          "showTitle": true,
          "inputWidgets": {},
          "nuid": "57cc92fb-48f4-4987-8d90-3be996228c3c"
        },
        "id": "NWh37en79Jvj",
        "outputId": "ee5011dc-1256-4168-d3df-3a1fae2df8f2"
      },
      "source": [
        "# When called on a dataset of (K, V) pairs, returns a dataset of (K, U) pairs where the values for each key are aggregated using the given combine functions and a neutral \"zero\" value. Allows an aggregated value type that is different than the input value type, while avoiding unnecessary allocations. Like in groupByKey, the number of reduce tasks is configurable through an optional second argument.\n",
        "data=[('A',1),('B',10),('C',3),('A',4),('C',3),('C',5)]\n",
        "source_RDD = sc.parallelize(data)\n",
        "seqFunc = (lambda x,y: (x[0]+y,x[1]+1))\n",
        "combFunc = (lambda rdd1,rdd2: (rdd1[0]+rdd2[0],rdd1[1]+rdd2[1]))\n",
        "result_RDD = source_RDD.aggregateByKey((0, 0),seqFunc,combFunc) \n",
        "print('Source RDD=',source_RDD.collect())\n",
        "print('Source RDD=',source_RDD.glom().collect())\n",
        "print('Result RDD after aggregateByKey = ',result_RDD.collect()) # returns the sum of values of each key and the number of occurance of each key"
      ],
      "execution_count": null,
      "outputs": [
        {
          "output_type": "display_data",
          "metadata": {
            "application/vnd.databricks.v1+output": {
              "datasetInfos": [],
              "data": "<div class=\"ansiout\">Source RDD= [(&#39;A&#39;, 1), (&#39;B&#39;, 10), (&#39;C&#39;, 3), (&#39;A&#39;, 4), (&#39;C&#39;, 3), (&#39;C&#39;, 5)]\nSource RDD= [[], [(&#39;A&#39;, 1)], [(&#39;B&#39;, 10)], [(&#39;C&#39;, 3)], [], [(&#39;A&#39;, 4)], [(&#39;C&#39;, 3)], [(&#39;C&#39;, 5)]]\nResult RDD after aggregateByKey =  [(&#39;B&#39;, (10, 1)), (&#39;C&#39;, (11, 3)), (&#39;A&#39;, (5, 2))]\n</div>",
              "removedWidgets": [],
              "addedWidgets": {},
              "metadata": {},
              "type": "html",
              "arguments": {}
            }
          },
          "data": {
            "text/html": [
              "<style scoped>\n  .ansiout {\n    display: block;\n    unicode-bidi: embed;\n    white-space: pre-wrap;\n    word-wrap: break-word;\n    word-break: break-all;\n    font-family: \"Source Code Pro\", \"Menlo\", monospace;;\n    font-size: 13px;\n    color: #555;\n    margin-left: 4px;\n    line-height: 19px;\n  }\n</style>\n<div class=\"ansiout\">Source RDD= [(&#39;A&#39;, 1), (&#39;B&#39;, 10), (&#39;C&#39;, 3), (&#39;A&#39;, 4), (&#39;C&#39;, 3), (&#39;C&#39;, 5)]\nSource RDD= [[], [(&#39;A&#39;, 1)], [(&#39;B&#39;, 10)], [(&#39;C&#39;, 3)], [], [(&#39;A&#39;, 4)], [(&#39;C&#39;, 3)], [(&#39;C&#39;, 5)]]\nResult RDD after aggregateByKey =  [(&#39;B&#39;, (10, 1)), (&#39;C&#39;, (11, 3)), (&#39;A&#39;, (5, 2))]\n</div>"
            ]
          }
        }
      ]
    },
    {
      "cell_type": "markdown",
      "metadata": {
        "id": "KwD5MYwY-kkF"
      },
      "source": [
        "## **sortByKey([ascending], [numPartitions])**"
      ]
    },
    {
      "cell_type": "code",
      "metadata": {
        "application/vnd.databricks.v1+cell": {
          "title": "sortByKey([ascending], [numPartitions])",
          "showTitle": true,
          "inputWidgets": {},
          "nuid": "3484ea1a-d66d-448b-9984-3b1d7c142b89"
        },
        "id": "ZO0aENCA9Jvk",
        "outputId": "61e8be65-578c-432d-d7c1-3ea308199e1e"
      },
      "source": [
        "# When called on a dataset of (K, V) pairs where K implements Ordered, returns a dataset of (K, V) pairs sorted by keys in ascending or descending order, as specified in the boolean ascending argument.\n",
        "data=[(1,'A'),(2,'B'),(3,'C'),(4,'D'),(1,'D'),(4,'H'),(1,'Z'),(3,'O'),(3,'P')]\n",
        "source_RDD = sc.parallelize(data)\n",
        "result_RDD = source_RDD.sortByKey()\n",
        "print('Source RDD=',source_RDD.collect())\n",
        "print('Result RDD after sortByKey = ',result_RDD.collect())"
      ],
      "execution_count": null,
      "outputs": [
        {
          "output_type": "display_data",
          "metadata": {
            "application/vnd.databricks.v1+output": {
              "datasetInfos": [],
              "data": "<div class=\"ansiout\">Source RDD= [(1, &#39;A&#39;), (2, &#39;B&#39;), (3, &#39;C&#39;), (4, &#39;D&#39;), (1, &#39;D&#39;), (4, &#39;H&#39;), (1, &#39;Z&#39;), (3, &#39;O&#39;), (3, &#39;P&#39;)]\nResult RDD after sortByKey =  [(1, &#39;A&#39;), (1, &#39;D&#39;), (1, &#39;Z&#39;), (2, &#39;B&#39;), (3, &#39;C&#39;), (3, &#39;O&#39;), (3, &#39;P&#39;), (4, &#39;D&#39;), (4, &#39;H&#39;)]\n</div>",
              "removedWidgets": [],
              "addedWidgets": {},
              "metadata": {},
              "type": "html",
              "arguments": {}
            }
          },
          "data": {
            "text/html": [
              "<style scoped>\n  .ansiout {\n    display: block;\n    unicode-bidi: embed;\n    white-space: pre-wrap;\n    word-wrap: break-word;\n    word-break: break-all;\n    font-family: \"Source Code Pro\", \"Menlo\", monospace;;\n    font-size: 13px;\n    color: #555;\n    margin-left: 4px;\n    line-height: 19px;\n  }\n</style>\n<div class=\"ansiout\">Source RDD= [(1, &#39;A&#39;), (2, &#39;B&#39;), (3, &#39;C&#39;), (4, &#39;D&#39;), (1, &#39;D&#39;), (4, &#39;H&#39;), (1, &#39;Z&#39;), (3, &#39;O&#39;), (3, &#39;P&#39;)]\nResult RDD after sortByKey =  [(1, &#39;A&#39;), (1, &#39;D&#39;), (1, &#39;Z&#39;), (2, &#39;B&#39;), (3, &#39;C&#39;), (3, &#39;O&#39;), (3, &#39;P&#39;), (4, &#39;D&#39;), (4, &#39;H&#39;)]\n</div>"
            ]
          }
        }
      ]
    },
    {
      "cell_type": "markdown",
      "metadata": {
        "id": "zuDFiNOr-rP4"
      },
      "source": [
        "## **join(otherDataset, [numPartitions])**"
      ]
    },
    {
      "cell_type": "code",
      "metadata": {
        "application/vnd.databricks.v1+cell": {
          "title": "join(otherDataset, [numPartitions])",
          "showTitle": true,
          "inputWidgets": {},
          "nuid": "6eed7be6-39ef-48d5-be97-be58f2f18250"
        },
        "id": "TWizamog9Jvk",
        "outputId": "7c673691-4725-493b-a445-b4d94de2986d"
      },
      "source": [
        "# When called on datasets of type (K, V) and (K, W), returns a dataset of (K, (V, W)) pairs with all pairs of elements for each key. Outer joins are supported through leftOuterJoin, rightOuterJoin, and fullOuterJoin.\n",
        "data1=[(1,'A'),(2,'B'),(3,'C')]\n",
        "data2=[(1,'F'),(3,'L'),(4,'M')]\n",
        "source_RDD1 = sc.parallelize(data1)\n",
        "source_RDD2 = sc.parallelize(data2)\n",
        "result_RDD = source_RDD1.join(source_RDD2)\n",
        "print('Source RDD 1=',source_RDD1.collect())\n",
        "print('Source RDD 2=',source_RDD2.collect())\n",
        "print('Result RDD after join = ',result_RDD.collect())"
      ],
      "execution_count": null,
      "outputs": [
        {
          "output_type": "display_data",
          "metadata": {
            "application/vnd.databricks.v1+output": {
              "datasetInfos": [],
              "data": "<div class=\"ansiout\">Source RDD 1= [(1, &#39;A&#39;), (2, &#39;B&#39;), (3, &#39;C&#39;)]\nSource RDD 2= [(1, &#39;F&#39;), (3, &#39;L&#39;), (4, &#39;M&#39;)]\nResult RDD after join =  [(1, (&#39;A&#39;, &#39;F&#39;)), (3, (&#39;C&#39;, &#39;L&#39;))]\n</div>",
              "removedWidgets": [],
              "addedWidgets": {},
              "metadata": {},
              "type": "html",
              "arguments": {}
            }
          },
          "data": {
            "text/html": [
              "<style scoped>\n  .ansiout {\n    display: block;\n    unicode-bidi: embed;\n    white-space: pre-wrap;\n    word-wrap: break-word;\n    word-break: break-all;\n    font-family: \"Source Code Pro\", \"Menlo\", monospace;;\n    font-size: 13px;\n    color: #555;\n    margin-left: 4px;\n    line-height: 19px;\n  }\n</style>\n<div class=\"ansiout\">Source RDD 1= [(1, &#39;A&#39;), (2, &#39;B&#39;), (3, &#39;C&#39;)]\nSource RDD 2= [(1, &#39;F&#39;), (3, &#39;L&#39;), (4, &#39;M&#39;)]\nResult RDD after join =  [(1, (&#39;A&#39;, &#39;F&#39;)), (3, (&#39;C&#39;, &#39;L&#39;))]\n</div>"
            ]
          }
        }
      ]
    },
    {
      "cell_type": "markdown",
      "metadata": {
        "id": "mKYdzUxR-wB2"
      },
      "source": [
        "## **cogroup(otherDataset, [numPartitions])**"
      ]
    },
    {
      "cell_type": "code",
      "metadata": {
        "application/vnd.databricks.v1+cell": {
          "title": "cogroup(otherDataset, [numPartitions])",
          "showTitle": true,
          "inputWidgets": {},
          "nuid": "d7b7934e-85f7-4a28-bb75-889abcb3ede4"
        },
        "id": "B-tl9Tj99Jvk",
        "outputId": "3536b747-a483-4f0d-e2d3-188ad8696d97"
      },
      "source": [
        "# When called on datasets of type (K, V) and (K, W), returns a dataset of (K, (Iterable<V>, Iterable<W>)) tuples. This operation is also called groupWith.\n",
        "data1=[(1,'A'),(2,'B'),(3,'C')]\n",
        "data2=[(1,'F'),(3,'L'),(4,'M')]\n",
        "source_RDD1 = sc.parallelize(data1)\n",
        "source_RDD2 = sc.parallelize(data2)\n",
        "result_RDD = source_RDD1.cogroup(source_RDD2)\n",
        "print('Source RDD 1=',source_RDD1.collect())\n",
        "print('Source RDD 2=',source_RDD2.collect())\n",
        "print('Result RDD after cogroup = ',result_RDD.collect())"
      ],
      "execution_count": null,
      "outputs": [
        {
          "output_type": "display_data",
          "metadata": {
            "application/vnd.databricks.v1+output": {
              "datasetInfos": [],
              "data": "<div class=\"ansiout\">Source RDD 1= [(1, &#39;A&#39;), (2, &#39;B&#39;), (3, &#39;C&#39;)]\nSource RDD 2= [(1, &#39;F&#39;), (3, &#39;L&#39;), (4, &#39;M&#39;)]\nResult RDD after cogroup =  [(1, (&lt;pyspark.resultiterable.ResultIterable object at 0x7f7471723fd0&gt;, &lt;pyspark.resultiterable.ResultIterable object at 0x7f74716be5b0&gt;)), (2, (&lt;pyspark.resultiterable.ResultIterable object at 0x7f74716beb80&gt;, &lt;pyspark.resultiterable.ResultIterable object at 0x7f74716bedc0&gt;)), (3, (&lt;pyspark.resultiterable.ResultIterable object at 0x7f74716be3a0&gt;, &lt;pyspark.resultiterable.ResultIterable object at 0x7f7471709c40&gt;)), (4, (&lt;pyspark.resultiterable.ResultIterable object at 0x7f7471709cd0&gt;, &lt;pyspark.resultiterable.ResultIterable object at 0x7f7471709e80&gt;))]\n</div>",
              "removedWidgets": [],
              "addedWidgets": {},
              "metadata": {},
              "type": "html",
              "arguments": {}
            }
          },
          "data": {
            "text/html": [
              "<style scoped>\n  .ansiout {\n    display: block;\n    unicode-bidi: embed;\n    white-space: pre-wrap;\n    word-wrap: break-word;\n    word-break: break-all;\n    font-family: \"Source Code Pro\", \"Menlo\", monospace;;\n    font-size: 13px;\n    color: #555;\n    margin-left: 4px;\n    line-height: 19px;\n  }\n</style>\n<div class=\"ansiout\">Source RDD 1= [(1, &#39;A&#39;), (2, &#39;B&#39;), (3, &#39;C&#39;)]\nSource RDD 2= [(1, &#39;F&#39;), (3, &#39;L&#39;), (4, &#39;M&#39;)]\nResult RDD after cogroup =  [(1, (&lt;pyspark.resultiterable.ResultIterable object at 0x7f7471723fd0&gt;, &lt;pyspark.resultiterable.ResultIterable object at 0x7f74716be5b0&gt;)), (2, (&lt;pyspark.resultiterable.ResultIterable object at 0x7f74716beb80&gt;, &lt;pyspark.resultiterable.ResultIterable object at 0x7f74716bedc0&gt;)), (3, (&lt;pyspark.resultiterable.ResultIterable object at 0x7f74716be3a0&gt;, &lt;pyspark.resultiterable.ResultIterable object at 0x7f7471709c40&gt;)), (4, (&lt;pyspark.resultiterable.ResultIterable object at 0x7f7471709cd0&gt;, &lt;pyspark.resultiterable.ResultIterable object at 0x7f7471709e80&gt;))]\n</div>"
            ]
          }
        }
      ]
    },
    {
      "cell_type": "markdown",
      "metadata": {
        "id": "2x463LfQ-0rd"
      },
      "source": [
        "## **cartesian(otherDataset)**"
      ]
    },
    {
      "cell_type": "code",
      "metadata": {
        "application/vnd.databricks.v1+cell": {
          "title": "cartesian(otherDataset)",
          "showTitle": true,
          "inputWidgets": {},
          "nuid": "c23d60ed-b601-46f6-9fe5-1ae67177e9fd"
        },
        "id": "NHWCMHRM9Jvl",
        "outputId": "42deacde-8527-4b64-a08b-c52ba5baf10d"
      },
      "source": [
        "# When called on datasets of types T and U, returns a dataset of (T, U) pairs (all pairs of elements).\n",
        "source_RDD1 = sc.parallelize([0,1])\n",
        "source_RDD2 = sc.parallelize([3,4])\n",
        "result_RDD = source_RDD1.cartesian(source_RDD2)\n",
        "print('Source RDD 1=',source_RDD1.collect())\n",
        "print('Source RDD 2=',source_RDD2.collect())\n",
        "print('Result RDD after cogroup = ',result_RDD.collect())"
      ],
      "execution_count": null,
      "outputs": [
        {
          "output_type": "display_data",
          "metadata": {
            "application/vnd.databricks.v1+output": {
              "datasetInfos": [],
              "data": "<div class=\"ansiout\">Source RDD 1= [0, 1]\nSource RDD 2= [3, 4]\nResult RDD after cogroup =  [(0, 3), (0, 4), (1, 3), (1, 4)]\n</div>",
              "removedWidgets": [],
              "addedWidgets": {},
              "metadata": {},
              "type": "html",
              "arguments": {}
            }
          },
          "data": {
            "text/html": [
              "<style scoped>\n  .ansiout {\n    display: block;\n    unicode-bidi: embed;\n    white-space: pre-wrap;\n    word-wrap: break-word;\n    word-break: break-all;\n    font-family: \"Source Code Pro\", \"Menlo\", monospace;;\n    font-size: 13px;\n    color: #555;\n    margin-left: 4px;\n    line-height: 19px;\n  }\n</style>\n<div class=\"ansiout\">Source RDD 1= [0, 1]\nSource RDD 2= [3, 4]\nResult RDD after cogroup =  [(0, 3), (0, 4), (1, 3), (1, 4)]\n</div>"
            ]
          }
        }
      ]
    },
    {
      "cell_type": "markdown",
      "metadata": {
        "id": "h7WLWZm7-6he"
      },
      "source": [
        "## **pipe(command, [envVars])**"
      ]
    },
    {
      "cell_type": "code",
      "metadata": {
        "application/vnd.databricks.v1+cell": {
          "title": "pipe(command, [envVars])",
          "showTitle": true,
          "inputWidgets": {},
          "nuid": "16d0f9c8-3811-49ed-98f3-44ec204eae54"
        },
        "id": "UCyEJapl9Jvl",
        "outputId": "dbd4bce4-ff9d-419d-efdd-4503f6452d65"
      },
      "source": [
        "# Pipe each partition of the RDD through a shell command, e.g. a Perl or bash script. RDD elements are written to the process's stdin and lines output to its stdout are returned as an RDD of strings.\n",
        "sc.parallelize([1, 2, 3, 4]).pipe('cat').collect()"
      ],
      "execution_count": null,
      "outputs": [
        {
          "output_type": "display_data",
          "metadata": {
            "application/vnd.databricks.v1+output": {
              "datasetInfos": [],
              "data": "<div class=\"ansiout\">Out[245]: [&#39;1&#39;, &#39;2&#39;, &#39;3&#39;, &#39;4&#39;]</div>",
              "removedWidgets": [],
              "addedWidgets": {},
              "metadata": {},
              "type": "html",
              "arguments": {}
            }
          },
          "data": {
            "text/html": [
              "<style scoped>\n  .ansiout {\n    display: block;\n    unicode-bidi: embed;\n    white-space: pre-wrap;\n    word-wrap: break-word;\n    word-break: break-all;\n    font-family: \"Source Code Pro\", \"Menlo\", monospace;;\n    font-size: 13px;\n    color: #555;\n    margin-left: 4px;\n    line-height: 19px;\n  }\n</style>\n<div class=\"ansiout\">Out[245]: [&#39;1&#39;, &#39;2&#39;, &#39;3&#39;, &#39;4&#39;]</div>"
            ]
          }
        }
      ]
    },
    {
      "cell_type": "markdown",
      "metadata": {
        "id": "D2E0va3A--bO"
      },
      "source": [
        "## **coalesce(numPartitions)**"
      ]
    },
    {
      "cell_type": "code",
      "metadata": {
        "application/vnd.databricks.v1+cell": {
          "title": "coalesce(numPartitions)",
          "showTitle": true,
          "inputWidgets": {},
          "nuid": "4041e4f0-60a0-4d37-a431-1d67f00b4f59"
        },
        "id": "h26mR9tT9Jvl",
        "outputId": "2e4731a6-b8d9-46a9-bf07-2fc80373d9bd"
      },
      "source": [
        "# Decrease the number of partitions in the RDD to numPartitions. Useful for running operations more efficiently after filtering down a large dataset.\n",
        "data = [1,2,3,4]\n",
        "source_RDD = sc.parallelize(data,4)\n",
        "result_RDD = source_RDD.coalesce(2)\n",
        "print(\"No. of Partitions before coalesce: \" ,source_RDD.getNumPartitions())\n",
        "print(\"Partitions before coalesce: \" ,source_RDD.glom().collect())\n",
        "print(\"No. of Partitions after coalesce: \" ,result_RDD.getNumPartitions())\n",
        "print(\"Partitions after coalesce: \" ,result_RDD.glom().collect())"
      ],
      "execution_count": null,
      "outputs": [
        {
          "output_type": "display_data",
          "metadata": {
            "application/vnd.databricks.v1+output": {
              "datasetInfos": [],
              "data": "<div class=\"ansiout\">No. of Partitions before coalesce:  4\nPartitions before coalesce:  [[1], [2], [3], [4]]\nNo. of Partitions after coalesce:  2\nPartitions after coalesce:  [[1, 2], [3, 4]]\n</div>",
              "removedWidgets": [],
              "addedWidgets": {},
              "metadata": {},
              "type": "html",
              "arguments": {}
            }
          },
          "data": {
            "text/html": [
              "<style scoped>\n  .ansiout {\n    display: block;\n    unicode-bidi: embed;\n    white-space: pre-wrap;\n    word-wrap: break-word;\n    word-break: break-all;\n    font-family: \"Source Code Pro\", \"Menlo\", monospace;;\n    font-size: 13px;\n    color: #555;\n    margin-left: 4px;\n    line-height: 19px;\n  }\n</style>\n<div class=\"ansiout\">No. of Partitions before coalesce:  4\nPartitions before coalesce:  [[1], [2], [3], [4]]\nNo. of Partitions after coalesce:  2\nPartitions after coalesce:  [[1, 2], [3, 4]]\n</div>"
            ]
          }
        }
      ]
    },
    {
      "cell_type": "markdown",
      "metadata": {
        "id": "Y2c5OvI5_DVO"
      },
      "source": [
        "## **repartition(numPartitions)**"
      ]
    },
    {
      "cell_type": "code",
      "metadata": {
        "application/vnd.databricks.v1+cell": {
          "title": "repartition(numPartitions)",
          "showTitle": true,
          "inputWidgets": {},
          "nuid": "fbed5d23-3f38-4d2a-8dd1-2d441c910026"
        },
        "id": "zMPPZ4ub9Jvl",
        "outputId": "c97eb7f2-774f-4561-b88d-faf03d32c98b"
      },
      "source": [
        "# Reshuffle the data in the RDD randomly to create either more or fewer partitions and balance it across them. This always shuffles all data over the network.\n",
        "data = [1,2,3,4]\n",
        "source_RDD = sc.parallelize(data,4)\n",
        "result_RDD = source_RDD.repartition(2)\n",
        "print(\"No. of Partitions before repartition: \" ,source_RDD.getNumPartitions())\n",
        "print(\"Partitions before repartition: \" ,source_RDD.glom().collect())\n",
        "print(\"No. of Partitions after repartition: \" ,result_RDD.getNumPartitions())\n",
        "print(\"Partitions after repartition: \" ,result_RDD.glom().collect())"
      ],
      "execution_count": null,
      "outputs": [
        {
          "output_type": "display_data",
          "metadata": {
            "application/vnd.databricks.v1+output": {
              "datasetInfos": [],
              "data": "<div class=\"ansiout\">No. of Partitions before repartition:  4\nPartitions before repartition:  [[1], [2], [3], [4]]\nNo. of Partitions after repartition:  2\nPartitions after repartition:  [[1, 3, 4], [2]]\n</div>",
              "removedWidgets": [],
              "addedWidgets": {},
              "metadata": {},
              "type": "html",
              "arguments": {}
            }
          },
          "data": {
            "text/html": [
              "<style scoped>\n  .ansiout {\n    display: block;\n    unicode-bidi: embed;\n    white-space: pre-wrap;\n    word-wrap: break-word;\n    word-break: break-all;\n    font-family: \"Source Code Pro\", \"Menlo\", monospace;;\n    font-size: 13px;\n    color: #555;\n    margin-left: 4px;\n    line-height: 19px;\n  }\n</style>\n<div class=\"ansiout\">No. of Partitions before repartition:  4\nPartitions before repartition:  [[1], [2], [3], [4]]\nNo. of Partitions after repartition:  2\nPartitions after repartition:  [[1, 3, 4], [2]]\n</div>"
            ]
          }
        }
      ]
    },
    {
      "cell_type": "markdown",
      "metadata": {
        "id": "_CBfUC9o_Gr-"
      },
      "source": [
        "## **repartitionAndSortWithinPartitions(partitioner)**"
      ]
    },
    {
      "cell_type": "code",
      "metadata": {
        "application/vnd.databricks.v1+cell": {
          "title": "repartitionAndSortWithinPartitions(partitioner)",
          "showTitle": true,
          "inputWidgets": {},
          "nuid": "b7c93191-c508-4afe-8c71-3ea6bdfb76ba"
        },
        "id": "qxuHsSGX9Jvm",
        "outputId": "6a38f1ac-9f80-4d98-9934-6445bbc48161"
      },
      "source": [
        "# Repartition the RDD according to the given partitioner and, within each resulting partition, sort records by their keys. This is more efficient than calling repartition and then sorting within each partition because it can push the sorting down into the shuffle machinery.\n",
        "source_RDD  = sc.parallelize([[\"a\",1], [\"b\",2], [\"c\",3], [\"d\",3]])\n",
        "result_RDD = source_RDD.repartitionAndSortWithinPartitions(2) \n",
        "print(\"RDD :\", source_RDD.collect())\n",
        "print(\"RDD after repartitionAndSortWithinPartitions:\", result_RDD.glom().collect())"
      ],
      "execution_count": null,
      "outputs": [
        {
          "output_type": "display_data",
          "metadata": {
            "application/vnd.databricks.v1+output": {
              "datasetInfos": [],
              "data": "<div class=\"ansiout\">RDD : [[&#39;a&#39;, 1], [&#39;b&#39;, 2], [&#39;c&#39;, 3], [&#39;d&#39;, 3]]\nRDD after repartitionAndSortWithinPartitions: [[(&#39;b&#39;, 2), (&#39;c&#39;, 3), (&#39;d&#39;, 3)], [(&#39;a&#39;, 1)]]\n</div>",
              "removedWidgets": [],
              "addedWidgets": {},
              "metadata": {},
              "type": "html",
              "arguments": {}
            }
          },
          "data": {
            "text/html": [
              "<style scoped>\n  .ansiout {\n    display: block;\n    unicode-bidi: embed;\n    white-space: pre-wrap;\n    word-wrap: break-word;\n    word-break: break-all;\n    font-family: \"Source Code Pro\", \"Menlo\", monospace;;\n    font-size: 13px;\n    color: #555;\n    margin-left: 4px;\n    line-height: 19px;\n  }\n</style>\n<div class=\"ansiout\">RDD : [[&#39;a&#39;, 1], [&#39;b&#39;, 2], [&#39;c&#39;, 3], [&#39;d&#39;, 3]]\nRDD after repartitionAndSortWithinPartitions: [[(&#39;b&#39;, 2), (&#39;c&#39;, 3), (&#39;d&#39;, 3)], [(&#39;a&#39;, 1)]]\n</div>"
            ]
          }
        }
      ]
    }
  ]
}